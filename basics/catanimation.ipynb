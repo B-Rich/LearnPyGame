{
 "cells": [
  {
   "cell_type": "code",
   "execution_count": 1,
   "metadata": {
    "collapsed": true
   },
   "outputs": [],
   "source": [
    "import pygame\n",
    "import sys\n",
    "from pygame.locals import *"
   ]
  },
  {
   "cell_type": "code",
   "execution_count": 2,
   "metadata": {
    "collapsed": false
   },
   "outputs": [
    {
     "data": {
      "text/plain": [
       "(6, 0)"
      ]
     },
     "execution_count": 2,
     "metadata": {},
     "output_type": "execute_result"
    }
   ],
   "source": [
    "pygame.init()\n"
   ]
  },
  {
   "cell_type": "code",
   "execution_count": 3,
   "metadata": {
    "collapsed": true
   },
   "outputs": [],
   "source": [
    "FPS = 30 # frames per second setting\n",
    "fpsClock = pygame.time.Clock()"
   ]
  },
  {
   "cell_type": "code",
   "execution_count": 4,
   "metadata": {
    "collapsed": true
   },
   "outputs": [],
   "source": [
    "# set up the window\n",
    "DISPLAYSURF = pygame.display.set_mode((400, 300), 0, 32)\n",
    "pygame.display.set_caption('Animation')"
   ]
  },
  {
   "cell_type": "code",
   "execution_count": 5,
   "metadata": {
    "collapsed": false
   },
   "outputs": [],
   "source": [
    "WHITE = (255, 255, 255)\n",
    "catImg = pygame.image.load('Cat.png')\n",
    "catx = 10\n",
    "caty = 10\n",
    "direction = 'right'"
   ]
  },
  {
   "cell_type": "code",
   "execution_count": 6,
   "metadata": {
    "collapsed": false
   },
   "outputs": [
    {
     "ename": "SystemExit",
     "evalue": "",
     "output_type": "error",
     "traceback": [
      "An exception has occurred, use %tb to see the full traceback.\n",
      "\u001b[1;31mSystemExit\u001b[0m\n"
     ]
    },
    {
     "name": "stderr",
     "output_type": "stream",
     "text": [
      "To exit: use 'exit', 'quit', or Ctrl-D.\n"
     ]
    }
   ],
   "source": [
    "while True:\n",
    "    DISPLAYSURF.fill(WHITE)\n",
    "    \n",
    "    if direction == 'right':\n",
    "        catx += 5\n",
    "        if catx == 280:\n",
    "            direction = 'down'\n",
    "        \n",
    "    elif direction == 'down':\n",
    "        caty += 5\n",
    "        if caty == 220:\n",
    "            direction = 'left'\n",
    "            \n",
    "    elif direction == 'left':\n",
    "        catx -= 5\n",
    "        if catx == 10:\n",
    "            direction = 'up'\n",
    "            \n",
    "    elif direction == 'up':\n",
    "        caty -= 5\n",
    "        if caty == 10:\n",
    "            direction = 'right'\n",
    "            \n",
    "    DISPLAYSURF.blit(catImg, (catx, caty))\n",
    "    for event in pygame.event.get():\n",
    "        if event.type == QUIT:\n",
    "            pygame.quit()\n",
    "            sys.exit()\n",
    "    pygame.display.update()\n",
    "    fpsClock.tick(FPS)"
   ]
  }
 ],
 "metadata": {
  "anaconda-cloud": {},
  "kernelspec": {
   "display_name": "Python [Root]",
   "language": "python",
   "name": "Python [Root]"
  },
  "language_info": {
   "codemirror_mode": {
    "name": "ipython",
    "version": 2
   },
   "file_extension": ".py",
   "mimetype": "text/x-python",
   "name": "python",
   "nbconvert_exporter": "python",
   "pygments_lexer": "ipython2",
   "version": "2.7.12"
  }
 },
 "nbformat": 4,
 "nbformat_minor": 0
}
